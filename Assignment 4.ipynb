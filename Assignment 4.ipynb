{
 "cells": [
  {
   "cell_type": "markdown",
   "metadata": {},
   "source": [
    "1.1 Write a Python Program(with class concepts) to find the area of the triangle using the below\n",
    "formula.\n",
    "area = (s*(s-a)*(s-b)*(s-c)) ** 0.5\n",
    "Function to take the length of the sides of triangle from user should be defined in the parent\n",
    "class and function to calculate the area should be defined in subclass."
   ]
  },
  {
   "cell_type": "code",
   "execution_count": 2,
   "metadata": {},
   "outputs": [
    {
     "name": "stdout",
     "output_type": "stream",
     "text": [
      "(4, 5, 6)\n",
      "49.21875\n"
     ]
    }
   ],
   "source": [
    "class Triangle:\n",
    "    def __init__(self,a,b,c):\n",
    "        self.a =a\n",
    "        self.b = b\n",
    "        self.c = c\n",
    "        \n",
    "    def get_a(self):\n",
    "        return self.a\n",
    "    def get_b(self):\n",
    "        return b\n",
    "    def get_c(Self):\n",
    "        return c\n",
    "    def set_a(self,a):\n",
    "        self.a = a\n",
    "    def set_b(Self,b):\n",
    "        self.b = b\n",
    "    def set_c(Self,c):\n",
    "        self.c = c\n",
    "    \n",
    "    def __repr__(self):\n",
    "        return f'{self.a, self.b, self.c}'\n",
    "\n",
    "class AreaTriangle(Triangle):\n",
    "    def __init__(self,a,b,c):\n",
    "        super().__init__(a,b,c)\n",
    "        self.s = (a+b+c)/2\n",
    "        \n",
    "    def calculate_area(self):\n",
    "        area = (self.s *(self.s - self.a)*(self.s - self.b)*(self.s - self.c) * 0.5 )\n",
    "        return area\n",
    "    def __repr__(self):\n",
    "        return super().__repr__()\n",
    "\n",
    "    \n",
    "object_of_Area = AreaTriangle(4,5,6)\n",
    "print(object_of_Area)\n",
    "print(object_of_Area.calculate_area())"
   ]
  },
  {
   "cell_type": "markdown",
   "metadata": {},
   "source": [
    "1.2 Write a function filter_long_words() that takes a list of words and an integer n and returns\n",
    "the list of words that are longer than n."
   ]
  },
  {
   "cell_type": "code",
   "execution_count": 3,
   "metadata": {},
   "outputs": [
    {
     "data": {
      "text/plain": [
       "['welcome', 'datascience']"
      ]
     },
     "execution_count": 3,
     "metadata": {},
     "output_type": "execute_result"
    }
   ],
   "source": [
    "def filter_long_words(mylst, n):\n",
    "    return [i for i in mylst if len(i)> n]\n",
    "\n",
    "mylst = ['welcome','to','datascience']\n",
    "filter_long_words(mylst, 5)"
   ]
  },
  {
   "cell_type": "markdown",
   "metadata": {},
   "source": [
    "2.1 Write a Python program using function concept that maps list of words into a list of integers\n",
    "representing the lengths of the corresponding words.\n",
    "Hint: If a list [ ab,cde,erty] is passed on to the python function output should come as [2,3,4]\n",
    "Here 2,3 and 4 are the lengths of the words in the list."
   ]
  },
  {
   "cell_type": "code",
   "execution_count": 6,
   "metadata": {},
   "outputs": [
    {
     "name": "stdout",
     "output_type": "stream",
     "text": [
      "['welcome', 'to', 'datascience']\n",
      "[7, 2, 11]\n"
     ]
    }
   ],
   "source": [
    "def map_the_list(mylst):\n",
    "    return [ len(i) for i in mylst]\n",
    "\n",
    "mylst = ['welcome','to','datascience']\n",
    "print(mylst)\n",
    "print(map_the_list(mylst))"
   ]
  },
  {
   "cell_type": "markdown",
   "metadata": {},
   "source": [
    "2.2 Write a Python function which takes a character (i.e. a string of length 1) and returns True if\n",
    "it is a vowel, False otherwise."
   ]
  },
  {
   "cell_type": "code",
   "execution_count": 7,
   "metadata": {},
   "outputs": [
    {
     "name": "stdout",
     "output_type": "stream",
     "text": [
      "Enter a character: a\n",
      "True\n"
     ]
    }
   ],
   "source": [
    "def func(c):\n",
    "    vowels = ['a', 'e', 'i', 'o', 'u', 'A','E', 'I','O','U']\n",
    "    if c in vowels:\n",
    "        return True\n",
    "    return False\n",
    "\n",
    "c = str(input('Enter a character: '))\n",
    "print(func(c))"
   ]
  },
  {
   "cell_type": "code",
   "execution_count": null,
   "metadata": {},
   "outputs": [],
   "source": []
  }
 ],
 "metadata": {
  "kernelspec": {
   "display_name": "Python 3",
   "language": "python",
   "name": "python3"
  },
  "language_info": {
   "codemirror_mode": {
    "name": "ipython",
    "version": 3
   },
   "file_extension": ".py",
   "mimetype": "text/x-python",
   "name": "python",
   "nbconvert_exporter": "python",
   "pygments_lexer": "ipython3",
   "version": "3.7.1"
  }
 },
 "nbformat": 4,
 "nbformat_minor": 2
}
